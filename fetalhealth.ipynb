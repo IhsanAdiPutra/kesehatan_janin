{
 "cells": [
  {
   "attachments": {},
   "cell_type": "markdown",
   "metadata": {},
   "source": [
    "# Business Understanding (Memahami Bisnis) \n",
    "Tahap ini melibatkan pemahaman terhadap tujuan bisnis, kebutuhan, dan tujuan yang ingin dicapai melalui proyek data mining.\n",
    "\n",
    "Business Understanding dari situs Kaggle, yaitu https://www.kaggle.com/datasets/andrewmvd/fetal-health-classification?select=fetal_health.csv, akan bergantung pada konteks penggunaan data set tersebut. Namun, secara umum, berikut adalah beberapa pertimbangan yang dapat menjadi Business Understanding yang mungkin terkait dengan data set \"fetal_health.csv\":\n",
    "\n",
    "1. Analisis Kesehatan Janin: Data set ini mungkin digunakan untuk melakukan analisis kesehatan janin berdasarkan berbagai atribut dan variabel yang tersedia dalam data set. Tujuan bisnisnya mungkin untuk mengembangkan model klasifikasi atau prediktif yang dapat mengidentifikasi status kesehatan janin berdasarkan atribut yang diberikan.\n",
    "\n",
    "2. Prediksi Risiko Kehamilan: Data set ini mungkin digunakan untuk membangun model yang dapat memprediksi risiko kehamilan, seperti risiko rendah atau tinggi terhadap kesehatan janin. Tujuan bisnisnya mungkin untuk memberikan informasi dan rekomendasi kepada dokter atau tenaga medis untuk pengambilan keputusan yang lebih baik dalam merawat ibu hamil.\n",
    "\n",
    "3. Penelitian Medis: Data set ini mungkin digunakan sebagai sumber data untuk penelitian medis terkait kesehatan janin. Tujuan bisnisnya mungkin untuk memahami faktor-faktor yang mempengaruhi kesehatan janin, mengidentifikasi pola atau tren, dan memberikan wawasan baru yang dapat digunakan dalam praktik medis atau pengembangan kebijakan kesehatan.\n",
    "\n",
    "4. Perbaikan Kualitas Asuhan Kesehatan: Data set ini mungkin digunakan untuk mengevaluasi dan meningkatkan kualitas asuhan kesehatan pada masa kehamilan. Dengan menganalisis data kesehatan janin yang terdapat dalam data set, tujuan bisnisnya mungkin untuk mengidentifikasi area di mana perubahan atau perbaikan perlu dilakukan untuk meningkatkan hasil kesehatan janin."
   ]
  },
  {
   "attachments": {},
   "cell_type": "markdown",
   "metadata": {},
   "source": [
    "# library"
   ]
  },
  {
   "cell_type": "code",
   "execution_count": 1,
   "metadata": {},
   "outputs": [],
   "source": [
    "import numpy as np\n",
    "import pandas as pd\n",
    "from sklearn.model_selection import train_test_split\n",
    "from sklearn.linear_model import LogisticRegression\n",
    "from sklearn.metrics import accuracy_score"
   ]
  },
  {
   "attachments": {},
   "cell_type": "markdown",
   "metadata": {},
   "source": [
    "# Data Understanding (Memahami Data)\n",
    "Pada tahap ini, data yang tersedia dianalisis lebih lanjut untuk memahami karakteristik, kualitas, dan hubungan di antara variabel-variabel yang ada. Tujuannya adalah memperoleh pemahaman yang lebih dalam tentang data yang akan digunakan dalam analisis.\n",
    "\n",
    "Data Understanding dari situs https://www.kaggle.com/datasets/andrewmvd/fetal-health-classification?select=fetal_health.csv dapat dijelaskan sebagai berikut:\n",
    "\n",
    "1. Sumber Data: Data set ini berasal dari Andrew Mvd dan diunggah ke platform Kaggle. Data set ini dikumpulkan dari rekaman elektrokardiogram (ECG) janin yang diambil dari ibu hamil untuk mengevaluasi kesehatan janin.\n",
    "\n",
    "2. Jenis Data: Data set ini merupakan data numerik yang terdiri dari atribut-atribut yang menggambarkan sinyal ECG dan parameter kesehatan janin yang terkait.\n",
    "\n",
    "3. Jumlah Data: Data set ini terdiri dari 2.120 baris atau sampel data. Setiap baris mewakili rekaman ECG dan atribut-atribut terkait dari seorang janin.\n",
    "\n",
    "4. Atribut Data: Data set ini terdiri dari 22 atribut, termasuk atribut-atribut yang menggambarkan karakteristik sinyal ECG, gerakan janin, kontraksi uterus, variabilitas jantung, serta atribut-atribut histogram yang terkait dengan sinyal ECG. Atribut-atribut ini digunakan sebagai fitur-fitur untuk analisis kesehatan janin dan pemodelan prediktif.\n",
    "\n",
    "5. Target Variable: Data set ini juga mencakup variabel target bernama 'fetal_health', yang menunjukkan kategori kesehatan janin. Variabel target ini memiliki tiga kelas: Normal, Suspect (Mencurigakan), dan Pathological (Patologis). Variabel target ini digunakan untuk melakukan klasifikasi kesehatan janin.\n",
    "\n",
    "6. Kualitas Data: Penting untuk melakukan evaluasi kualitas data sebelum melakukan analisis lebih lanjut. Hal ini mencakup pemeriksaan terhadap missing values, outlier, atau kesalahan lainnya yang mungkin ada dalam data.\n",
    "\n",
    "Data set ini menyediakan informasi yang berharga tentang atribut-atribut yang relevan dengan kesehatan janin. Dengan memahami karakteristik data ini, analis atau peneliti dapat menjalankan langkah-langkah selanjutnya seperti Data Preparation, Modeling, dan Evaluation untuk memahami lebih dalam tentang kesehatan janin dan membangun model prediktif yang dapat memberikan wawasan berharga dalam diagnosis dan perawatan kesehatan ibu hamil."
   ]
  },
  {
   "attachments": {},
   "cell_type": "markdown",
   "metadata": {},
   "source": [
    "# load dataset"
   ]
  },
  {
   "cell_type": "code",
   "execution_count": 2,
   "metadata": {},
   "outputs": [],
   "source": [
    "fetal_health = pd.read_csv('fetal_health.csv')"
   ]
  },
  {
   "cell_type": "code",
   "execution_count": 3,
   "metadata": {},
   "outputs": [
    {
     "data": {
      "text/html": [
       "<div>\n",
       "<style scoped>\n",
       "    .dataframe tbody tr th:only-of-type {\n",
       "        vertical-align: middle;\n",
       "    }\n",
       "\n",
       "    .dataframe tbody tr th {\n",
       "        vertical-align: top;\n",
       "    }\n",
       "\n",
       "    .dataframe thead th {\n",
       "        text-align: right;\n",
       "    }\n",
       "</style>\n",
       "<table border=\"1\" class=\"dataframe\">\n",
       "  <thead>\n",
       "    <tr style=\"text-align: right;\">\n",
       "      <th></th>\n",
       "      <th>baseline_value</th>\n",
       "      <th>accelerations</th>\n",
       "      <th>fetal_movement</th>\n",
       "      <th>uterine_contractions</th>\n",
       "      <th>light_decelerations</th>\n",
       "      <th>severe_decelerations</th>\n",
       "      <th>prolongued_decelerations</th>\n",
       "      <th>abnormal_short_term_variability</th>\n",
       "      <th>mean_value_of_short_term_variability</th>\n",
       "      <th>percentage_of_time_with_abnormal_long_term_variability</th>\n",
       "      <th>...</th>\n",
       "      <th>histogram_min</th>\n",
       "      <th>histogram_max</th>\n",
       "      <th>histogram_number_of_peaks</th>\n",
       "      <th>histogram_number_of_zeroes</th>\n",
       "      <th>histogram_mode</th>\n",
       "      <th>histogram_mean</th>\n",
       "      <th>histogram_median</th>\n",
       "      <th>histogram_variance</th>\n",
       "      <th>histogram_tendency</th>\n",
       "      <th>fetal_health</th>\n",
       "    </tr>\n",
       "  </thead>\n",
       "  <tbody>\n",
       "    <tr>\n",
       "      <th>0</th>\n",
       "      <td>120.0</td>\n",
       "      <td>0.000</td>\n",
       "      <td>0.0</td>\n",
       "      <td>0.000</td>\n",
       "      <td>0.000</td>\n",
       "      <td>0.0</td>\n",
       "      <td>0.0</td>\n",
       "      <td>73.0</td>\n",
       "      <td>0.5</td>\n",
       "      <td>43.0</td>\n",
       "      <td>...</td>\n",
       "      <td>62.0</td>\n",
       "      <td>126.0</td>\n",
       "      <td>2.0</td>\n",
       "      <td>0.0</td>\n",
       "      <td>120.0</td>\n",
       "      <td>137.0</td>\n",
       "      <td>121.0</td>\n",
       "      <td>73.0</td>\n",
       "      <td>1.0</td>\n",
       "      <td>2.0</td>\n",
       "    </tr>\n",
       "    <tr>\n",
       "      <th>1</th>\n",
       "      <td>132.0</td>\n",
       "      <td>0.006</td>\n",
       "      <td>0.0</td>\n",
       "      <td>0.006</td>\n",
       "      <td>0.003</td>\n",
       "      <td>0.0</td>\n",
       "      <td>0.0</td>\n",
       "      <td>17.0</td>\n",
       "      <td>2.1</td>\n",
       "      <td>0.0</td>\n",
       "      <td>...</td>\n",
       "      <td>68.0</td>\n",
       "      <td>198.0</td>\n",
       "      <td>6.0</td>\n",
       "      <td>1.0</td>\n",
       "      <td>141.0</td>\n",
       "      <td>136.0</td>\n",
       "      <td>140.0</td>\n",
       "      <td>12.0</td>\n",
       "      <td>0.0</td>\n",
       "      <td>1.0</td>\n",
       "    </tr>\n",
       "    <tr>\n",
       "      <th>2</th>\n",
       "      <td>133.0</td>\n",
       "      <td>0.003</td>\n",
       "      <td>0.0</td>\n",
       "      <td>0.008</td>\n",
       "      <td>0.003</td>\n",
       "      <td>0.0</td>\n",
       "      <td>0.0</td>\n",
       "      <td>16.0</td>\n",
       "      <td>2.1</td>\n",
       "      <td>0.0</td>\n",
       "      <td>...</td>\n",
       "      <td>68.0</td>\n",
       "      <td>198.0</td>\n",
       "      <td>5.0</td>\n",
       "      <td>1.0</td>\n",
       "      <td>141.0</td>\n",
       "      <td>135.0</td>\n",
       "      <td>138.0</td>\n",
       "      <td>13.0</td>\n",
       "      <td>0.0</td>\n",
       "      <td>1.0</td>\n",
       "    </tr>\n",
       "    <tr>\n",
       "      <th>3</th>\n",
       "      <td>134.0</td>\n",
       "      <td>0.003</td>\n",
       "      <td>0.0</td>\n",
       "      <td>0.008</td>\n",
       "      <td>0.003</td>\n",
       "      <td>0.0</td>\n",
       "      <td>0.0</td>\n",
       "      <td>16.0</td>\n",
       "      <td>2.4</td>\n",
       "      <td>0.0</td>\n",
       "      <td>...</td>\n",
       "      <td>53.0</td>\n",
       "      <td>170.0</td>\n",
       "      <td>11.0</td>\n",
       "      <td>0.0</td>\n",
       "      <td>137.0</td>\n",
       "      <td>134.0</td>\n",
       "      <td>137.0</td>\n",
       "      <td>13.0</td>\n",
       "      <td>1.0</td>\n",
       "      <td>1.0</td>\n",
       "    </tr>\n",
       "    <tr>\n",
       "      <th>4</th>\n",
       "      <td>132.0</td>\n",
       "      <td>0.007</td>\n",
       "      <td>0.0</td>\n",
       "      <td>0.008</td>\n",
       "      <td>0.000</td>\n",
       "      <td>0.0</td>\n",
       "      <td>0.0</td>\n",
       "      <td>16.0</td>\n",
       "      <td>2.4</td>\n",
       "      <td>0.0</td>\n",
       "      <td>...</td>\n",
       "      <td>53.0</td>\n",
       "      <td>170.0</td>\n",
       "      <td>9.0</td>\n",
       "      <td>0.0</td>\n",
       "      <td>137.0</td>\n",
       "      <td>136.0</td>\n",
       "      <td>138.0</td>\n",
       "      <td>11.0</td>\n",
       "      <td>1.0</td>\n",
       "      <td>1.0</td>\n",
       "    </tr>\n",
       "  </tbody>\n",
       "</table>\n",
       "<p>5 rows × 22 columns</p>\n",
       "</div>"
      ],
      "text/plain": [
       "   baseline_value  accelerations  fetal_movement  uterine_contractions  \\\n",
       "0           120.0          0.000             0.0                 0.000   \n",
       "1           132.0          0.006             0.0                 0.006   \n",
       "2           133.0          0.003             0.0                 0.008   \n",
       "3           134.0          0.003             0.0                 0.008   \n",
       "4           132.0          0.007             0.0                 0.008   \n",
       "\n",
       "   light_decelerations  severe_decelerations  prolongued_decelerations  \\\n",
       "0                0.000                   0.0                       0.0   \n",
       "1                0.003                   0.0                       0.0   \n",
       "2                0.003                   0.0                       0.0   \n",
       "3                0.003                   0.0                       0.0   \n",
       "4                0.000                   0.0                       0.0   \n",
       "\n",
       "   abnormal_short_term_variability  mean_value_of_short_term_variability  \\\n",
       "0                             73.0                                   0.5   \n",
       "1                             17.0                                   2.1   \n",
       "2                             16.0                                   2.1   \n",
       "3                             16.0                                   2.4   \n",
       "4                             16.0                                   2.4   \n",
       "\n",
       "   percentage_of_time_with_abnormal_long_term_variability  ...  histogram_min  \\\n",
       "0                                               43.0       ...           62.0   \n",
       "1                                                0.0       ...           68.0   \n",
       "2                                                0.0       ...           68.0   \n",
       "3                                                0.0       ...           53.0   \n",
       "4                                                0.0       ...           53.0   \n",
       "\n",
       "   histogram_max  histogram_number_of_peaks  histogram_number_of_zeroes  \\\n",
       "0          126.0                        2.0                         0.0   \n",
       "1          198.0                        6.0                         1.0   \n",
       "2          198.0                        5.0                         1.0   \n",
       "3          170.0                       11.0                         0.0   \n",
       "4          170.0                        9.0                         0.0   \n",
       "\n",
       "   histogram_mode  histogram_mean  histogram_median  histogram_variance  \\\n",
       "0           120.0           137.0             121.0                73.0   \n",
       "1           141.0           136.0             140.0                12.0   \n",
       "2           141.0           135.0             138.0                13.0   \n",
       "3           137.0           134.0             137.0                13.0   \n",
       "4           137.0           136.0             138.0                11.0   \n",
       "\n",
       "   histogram_tendency  fetal_health  \n",
       "0                 1.0           2.0  \n",
       "1                 0.0           1.0  \n",
       "2                 0.0           1.0  \n",
       "3                 1.0           1.0  \n",
       "4                 1.0           1.0  \n",
       "\n",
       "[5 rows x 22 columns]"
      ]
     },
     "execution_count": 3,
     "metadata": {},
     "output_type": "execute_result"
    }
   ],
   "source": [
    "fetal_health.head()"
   ]
  },
  {
   "attachments": {},
   "cell_type": "markdown",
   "metadata": {},
   "source": [
    "# Data Preparation (Persiapan Data)\n",
    "Tahap ini melibatkan pembersihan, transformasi, dan penggabungan data agar siap untuk analisis lebih lanjut. Pada tahap ini, pre-processing data seperti penghapusan data yang hilang atau outlier, penyesuaian format, dan normalisasi data dapat dilakukan.\n",
    "\n",
    "Data Preparation (persiapan data) dari dataset fetal_health.csv dapat melibatkan serangkaian langkah-langkah untuk mempersiapkan data sebelum dilakukan analisis atau pemodelan. Berikut adalah beberapa langkah umum dalam Data Preparation:\n",
    "\n",
    "1. Memuat Data: Langkah pertama adalah memuat data dari file CSV yang tersedia. Anda dapat menggunakan library atau alat analisis data seperti Pandas untuk membaca file CSV ke dalam struktur data yang sesuai, seperti DataFrame.\n",
    "\n",
    "2. Menjelajahi Data: Setelah data dimuat, penting untuk menjelajahi dan memahami struktur data, termasuk jumlah baris dan kolom, tipe data setiap kolom, serta melihat beberapa contoh data untuk memahami format dan isi atribut-atribut.\n",
    "\n",
    "3. Mengatasi Missing Values: Jika terdapat missing values (nilai yang hilang) dalam data, Anda perlu menentukan cara mengatasi nilai-nilai yang hilang tersebut. Beberapa pendekatan yang umum adalah menghapus baris yang memiliki missing values, mengisi missing values dengan nilai rata-rata atau median, atau menggunakan teknik imputasi yang lebih canggih.\n",
    "\n",
    "4. Mengatasi Outlier: Outlier (data yang jauh dari nilai yang diharapkan) dapat mempengaruhi analisis dan pemodelan. Anda perlu mengidentifikasi dan memutuskan bagaimana mengatasi outlier dalam data. Hal ini dapat dilakukan dengan teknik deteksi outlier dan penghapusan atau transformasi data yang tidak bias.\n",
    "\n",
    "5. Normalisasi dan Standarisasi: Dalam beberapa kasus, normalisasi atau standarisasi atribut dapat diterapkan untuk memastikan bahwa semua atribut memiliki skala yang serupa. Ini membantu memperbaiki performa model yang sensitif terhadap skala data.\n",
    "\n",
    "6. Pemilihan Fitur: Jika diperlukan, Anda dapat melakukan pemilihan fitur (feature selection) untuk mengidentifikasi subset atribut yang paling relevan atau berpengaruh dalam prediksi kesehatan janin. Pemilihan fitur dapat dilakukan berdasarkan analisis statistik atau teknik pemilihan fitur seperti Lasso, Recursive Feature Elimination, atau feature importance dari model.\n",
    "\n",
    "7. Encoding dan Transformasi Data: Beberapa atribut dalam data mungkin perlu diubah menjadi format yang sesuai untuk pemodelan. Ini dapat melibatkan encoding atribut kategori menjadi variabel numerik atau menggunakan teknik seperti one-hot encoding atau label encoding.\n",
    "\n",
    "8. Pembagian Data: Terakhir, data dapat dibagi menjadi subset training dan testing untuk evaluasi model. Pembagian ini membantu memvalidasi performa model pada data yang tidak dilihat sebelumnya.\n",
    "\n",
    "Setelah langkah-langkah ini selesai, data akan siap untuk digunakan dalam pemodelan dan analisis lebih lanjut untuk memahami dan mengklasifikasikan kesehatan janin."
   ]
  },
  {
   "attachments": {},
   "cell_type": "markdown",
   "metadata": {},
   "source": [
    "# pisahkan atribut dengan labe"
   ]
  },
  {
   "cell_type": "code",
   "execution_count": 4,
   "metadata": {},
   "outputs": [],
   "source": [
    "x = fetal_health.drop(columns='fetal_health', axis=1)\n",
    "y = fetal_health['fetal_health']"
   ]
  },
  {
   "cell_type": "code",
   "execution_count": 5,
   "metadata": {},
   "outputs": [
    {
     "name": "stdout",
     "output_type": "stream",
     "text": [
      "      baseline_value  accelerations  fetal_movement  uterine_contractions  \\\n",
      "0              120.0          0.000           0.000                 0.000   \n",
      "1              132.0          0.006           0.000                 0.006   \n",
      "2              133.0          0.003           0.000                 0.008   \n",
      "3              134.0          0.003           0.000                 0.008   \n",
      "4              132.0          0.007           0.000                 0.008   \n",
      "...              ...            ...             ...                   ...   \n",
      "2121           140.0          0.000           0.000                 0.007   \n",
      "2122           140.0          0.001           0.000                 0.007   \n",
      "2123           140.0          0.001           0.000                 0.007   \n",
      "2124           140.0          0.001           0.000                 0.006   \n",
      "2125           142.0          0.002           0.002                 0.008   \n",
      "\n",
      "      light_decelerations  severe_decelerations  prolongued_decelerations  \\\n",
      "0                   0.000                   0.0                       0.0   \n",
      "1                   0.003                   0.0                       0.0   \n",
      "2                   0.003                   0.0                       0.0   \n",
      "3                   0.003                   0.0                       0.0   \n",
      "4                   0.000                   0.0                       0.0   \n",
      "...                   ...                   ...                       ...   \n",
      "2121                0.000                   0.0                       0.0   \n",
      "2122                0.000                   0.0                       0.0   \n",
      "2123                0.000                   0.0                       0.0   \n",
      "2124                0.000                   0.0                       0.0   \n",
      "2125                0.000                   0.0                       0.0   \n",
      "\n",
      "      abnormal_short_term_variability  mean_value_of_short_term_variability  \\\n",
      "0                                73.0                                   0.5   \n",
      "1                                17.0                                   2.1   \n",
      "2                                16.0                                   2.1   \n",
      "3                                16.0                                   2.4   \n",
      "4                                16.0                                   2.4   \n",
      "...                               ...                                   ...   \n",
      "2121                             79.0                                   0.2   \n",
      "2122                             78.0                                   0.4   \n",
      "2123                             79.0                                   0.4   \n",
      "2124                             78.0                                   0.4   \n",
      "2125                             74.0                                   0.4   \n",
      "\n",
      "      percentage_of_time_with_abnormal_long_term_variability  ...  \\\n",
      "0                                                  43.0       ...   \n",
      "1                                                   0.0       ...   \n",
      "2                                                   0.0       ...   \n",
      "3                                                   0.0       ...   \n",
      "4                                                   0.0       ...   \n",
      "...                                                 ...       ...   \n",
      "2121                                               25.0       ...   \n",
      "2122                                               22.0       ...   \n",
      "2123                                               20.0       ...   \n",
      "2124                                               27.0       ...   \n",
      "2125                                               36.0       ...   \n",
      "\n",
      "      histogram_width  histogram_min  histogram_max  \\\n",
      "0                64.0           62.0          126.0   \n",
      "1               130.0           68.0          198.0   \n",
      "2               130.0           68.0          198.0   \n",
      "3               117.0           53.0          170.0   \n",
      "4               117.0           53.0          170.0   \n",
      "...               ...            ...            ...   \n",
      "2121             40.0          137.0          177.0   \n",
      "2122             66.0          103.0          169.0   \n",
      "2123             67.0          103.0          170.0   \n",
      "2124             66.0          103.0          169.0   \n",
      "2125             42.0          117.0          159.0   \n",
      "\n",
      "      histogram_number_of_peaks  histogram_number_of_zeroes  histogram_mode  \\\n",
      "0                           2.0                         0.0           120.0   \n",
      "1                           6.0                         1.0           141.0   \n",
      "2                           5.0                         1.0           141.0   \n",
      "3                          11.0                         0.0           137.0   \n",
      "4                           9.0                         0.0           137.0   \n",
      "...                         ...                         ...             ...   \n",
      "2121                        4.0                         0.0           153.0   \n",
      "2122                        6.0                         0.0           152.0   \n",
      "2123                        5.0                         0.0           153.0   \n",
      "2124                        6.0                         0.0           152.0   \n",
      "2125                        2.0                         1.0           145.0   \n",
      "\n",
      "      histogram_mean  histogram_median  histogram_variance  histogram_tendency  \n",
      "0              137.0             121.0                73.0                 1.0  \n",
      "1              136.0             140.0                12.0                 0.0  \n",
      "2              135.0             138.0                13.0                 0.0  \n",
      "3              134.0             137.0                13.0                 1.0  \n",
      "4              136.0             138.0                11.0                 1.0  \n",
      "...              ...               ...                 ...                 ...  \n",
      "2121           150.0             152.0                 2.0                 0.0  \n",
      "2122           148.0             151.0                 3.0                 1.0  \n",
      "2123           148.0             152.0                 4.0                 1.0  \n",
      "2124           147.0             151.0                 4.0                 1.0  \n",
      "2125           143.0             145.0                 1.0                 0.0  \n",
      "\n",
      "[2126 rows x 21 columns]\n"
     ]
    }
   ],
   "source": [
    "print(x)"
   ]
  },
  {
   "cell_type": "code",
   "execution_count": 6,
   "metadata": {},
   "outputs": [
    {
     "name": "stdout",
     "output_type": "stream",
     "text": [
      "0       2.0\n",
      "1       1.0\n",
      "2       1.0\n",
      "3       1.0\n",
      "4       1.0\n",
      "       ... \n",
      "2121    2.0\n",
      "2122    2.0\n",
      "2123    2.0\n",
      "2124    2.0\n",
      "2125    1.0\n",
      "Name: fetal_health, Length: 2126, dtype: float64\n"
     ]
    }
   ],
   "source": [
    "print(y)"
   ]
  },
  {
   "attachments": {},
   "cell_type": "markdown",
   "metadata": {},
   "source": [
    "# split data"
   ]
  },
  {
   "cell_type": "code",
   "execution_count": 7,
   "metadata": {},
   "outputs": [],
   "source": [
    "x_train, x_test, y_train, y_test = train_test_split(x, y, test_size=0.2, stratify=y, random_state=2)"
   ]
  },
  {
   "cell_type": "code",
   "execution_count": 8,
   "metadata": {},
   "outputs": [
    {
     "name": "stdout",
     "output_type": "stream",
     "text": [
      "(2126, 21) (1700, 21) (426, 21)\n"
     ]
    }
   ],
   "source": [
    "print(x.shape, x_train.shape, x_test.shape)"
   ]
  },
  {
   "attachments": {},
   "cell_type": "markdown",
   "metadata": {},
   "source": [
    "# membuat model training"
   ]
  },
  {
   "cell_type": "code",
   "execution_count": 9,
   "metadata": {},
   "outputs": [],
   "source": [
    "model = LogisticRegression()"
   ]
  },
  {
   "cell_type": "code",
   "execution_count": 10,
   "metadata": {},
   "outputs": [
    {
     "name": "stderr",
     "output_type": "stream",
     "text": [
      "c:\\anaconda\\lib\\site-packages\\sklearn\\linear_model\\_logistic.py:814: ConvergenceWarning: lbfgs failed to converge (status=1):\n",
      "STOP: TOTAL NO. of ITERATIONS REACHED LIMIT.\n",
      "\n",
      "Increase the number of iterations (max_iter) or scale the data as shown in:\n",
      "    https://scikit-learn.org/stable/modules/preprocessing.html\n",
      "Please also refer to the documentation for alternative solver options:\n",
      "    https://scikit-learn.org/stable/modules/linear_model.html#logistic-regression\n",
      "  n_iter_i = _check_optimize_result(\n"
     ]
    },
    {
     "data": {
      "text/plain": [
       "LogisticRegression()"
      ]
     },
     "execution_count": 10,
     "metadata": {},
     "output_type": "execute_result"
    }
   ],
   "source": [
    "model.fit(x_train, y_train)"
   ]
  },
  {
   "attachments": {},
   "cell_type": "markdown",
   "metadata": {},
   "source": [
    "# Evaluation (Evaluasi)\n",
    "Pada tahap ini, model yang telah dibangun dievaluasi secara kritis untuk memahami sejauh mana model tersebut memenuhi tujuan bisnis awal dan apakah hasilnya dapat digeneralisasi dengan baik. Jika perlu, langkah-langkah perbaikan dapat diambil.\n",
    "Evaluasi (Evaluation) dari situs https://www.kaggle.com/datasets/andrewmvd/fetal-health-classification?select=fetal_health.csv melibatkan langkah-langkah untuk mengevaluasi kinerja model prediktif yang telah dibangun menggunakan data tersebut. Berikut adalah beberapa metode evaluasi yang umum digunakan:\n",
    "\n",
    "1. Pembagian Data: Data yang tersedia perlu dibagi menjadi subset training dan testing. Subset training digunakan untuk melatih model, sedangkan subset testing digunakan untuk menguji kinerja model pada data yang tidak dilihat sebelumnya. Pembagian data yaitu adalah 80% untuk training dan 80% untuk testing.\n"
   ]
  },
  {
   "attachments": {},
   "cell_type": "markdown",
   "metadata": {},
   "source": [
    "# evaluasi model"
   ]
  },
  {
   "cell_type": "code",
   "execution_count": 11,
   "metadata": {},
   "outputs": [],
   "source": [
    "x_train_prediction = model.predict(x_train)\n",
    "training_data_accuracy = accuracy_score(x_train_prediction, y_train)"
   ]
  },
  {
   "cell_type": "code",
   "execution_count": 12,
   "metadata": {},
   "outputs": [
    {
     "name": "stdout",
     "output_type": "stream",
     "text": [
      "akurasi data training :  0.8735294117647059\n"
     ]
    }
   ],
   "source": [
    "print('akurasi data training : ', training_data_accuracy)"
   ]
  },
  {
   "cell_type": "code",
   "execution_count": 13,
   "metadata": {},
   "outputs": [],
   "source": [
    "x_test_prediction = model.predict(x_test)\n",
    "test_data_accuracy = accuracy_score(x_test_prediction, y_test)"
   ]
  },
  {
   "cell_type": "code",
   "execution_count": 14,
   "metadata": {},
   "outputs": [
    {
     "name": "stdout",
     "output_type": "stream",
     "text": [
      "akurasi data testing :  0.8356807511737089\n"
     ]
    }
   ],
   "source": [
    "print('akurasi data testing : ', test_data_accuracy)"
   ]
  },
  {
   "attachments": {},
   "cell_type": "markdown",
   "metadata": {},
   "source": [
    "# Modeling (Pemodelan)\n",
    "Tahap ini melibatkan pemilihan teknik pemodelan yang sesuai dan penggunaan algoritma untuk membangun model prediktif atau deskriptif. Tahap ini juga melibatkan pengujian dan evaluasi model untuk memastikan kualitas dan kecocokan dengan tujuan bisnis.\n",
    "\n",
    "Tahap Modeling melibatkan penggunaan algoritma dan teknik pemodelan untuk membangun model prediktif atau deskriptif berdasarkan data yang tersedia dalam file \"fetal_health.csv\".\n",
    "\n",
    "1. Memilih Algoritma Pemodelan: memilih algoritma pemodelan yang sesuai dengan tujuan analisis dan tipe data yang ada dalam data set. Algoritma pemodelan yang digunakan yaitu Regresi Logistik.\n",
    "\n",
    "2. Pemilihan Fitur (Feature Selection): Jika diperlukan, Anda dapat melakukan pemilihan fitur untuk mengidentifikasi subset fitur yang paling relevan atau berpengaruh dalam membangun model. Pemilihan fitur dapat dilakukan berdasarkan analisis korelasi, pemilihan berbasis model, atau metode lainnya. Berikut adalah daftar fitur yang tersedia dalam data set tersebut:\n",
    "\n",
    "- baseline value: Nilai baseline sinyal elektrokardiogram (ECG) yang diukur pada awal rekaman.\n",
    "- accelerations: Jumlah percepatan gerakan janin per detik.\n",
    "- fetal_movement: Jumlah gerakan janin per detik.\n",
    "- uterine_contractions: Jumlah kontraksi uterus per detik.\n",
    "- light_decelerations: Jumlah penurunan ringan dalam detak jantung janin per detik.\n",
    "- severe_decelerations: Jumlah penurunan parah dalam detak jantung janin per detik.\n",
    "- prolongued_decelerations: Jumlah penurunan detak jantung janin yang berkepanjangan per detik.\n",
    "- abnormal_short_term_variability: Variabilitas detak jantung janin dalam jangka pendek yang dianggap tidak normal.\n",
    "- mean_value_of_short_term_variability: Nilai rata-rata dari variabilitas detak jantung janin dalam jangka pendek.\n",
    "- percentage_of_time_with_abnormal_long_term_variability: Persentase waktu dengan variabilitas detak jantung janin yang abnormal dalam jangka panjang.\n",
    "- mean_value_of_long_term_variability: Nilai rata-rata dari variabilitas detak jantung janin dalam jangka panjang.\n",
    "- histogram_width: Lebar histogram dari sinyal elektrokardiogram (ECG) janin.\n",
    "- histogram_min: Nilai minimum dari histogram sinyal elektrokardiogram (ECG) janin.\n",
    "- histogram_max: Nilai maksimum dari histogram sinyal elektrokardiogram (ECG) janin.\n",
    "- histogram_number_of_peaks: Jumlah puncak dalam histogram sinyal elektrokardiogram (ECG) janin.\n",
    "- histogram_number_of_zeroes: Jumlah nilai nol dalam histogram sinyal elektrokardiogram (ECG) janin.\n",
    "- histogram_mode: Modus (nilai paling sering muncul) dalam histogram sinyal elektrokardiogram (ECG) janin.\n",
    "- histogram_mean: Nilai rata-rata dalam histogram sinyal elektrokardiogram (ECG) janin.\n",
    "- histogram_median: Median (nilai tengah) dalam histogram sinyal elektrokardiogram (ECG) janin.\n",
    "- histogram_variance: Variansi dalam histogram sinyal elektrokardiogram (ECG) janin.\n",
    "- histogram_tendency: Kecenderungan histogram sinyal elektrokardiogram (ECG) janin (peningkatan, stagnan, atau penurunan).\n",
    "- fetal_health: Variabel target yang mengindikasikan kategori kesehatan janin (Normal, Suspect/Mencurigakan, atau Pathological/Patologis).\n",
    "\n",
    "Fitur-fitur ini memberikan informasi yang penting untuk menganalisis dan memahami kondisi kesehatan janin. Dengan menggunakan fitur-fitur ini, dapat dilakukan pemodelan dan prediksi terkait kesehatan janin\n",
    "\n",
    "3. Membangun Model: Setelah persiapan data dan pemilihan fitur dilakukan, langkah selanjutnya adalah membangun model menggunakan algoritma yang telah dipilih. Model akan dilatih dengan menggunakan data pelatihan dan tujuan bisnis yang ingin dicapai.\n",
    "\n",
    "\n",
    "\n"
   ]
  },
  {
   "attachments": {},
   "cell_type": "markdown",
   "metadata": {},
   "source": [
    "# membuat model prediksi"
   ]
  },
  {
   "cell_type": "code",
   "execution_count": 15,
   "metadata": {},
   "outputs": [
    {
     "name": "stdout",
     "output_type": "stream",
     "text": [
      "[2.]\n",
      "kesehatan janin Suspect (Mencurigakan)\n"
     ]
    },
    {
     "name": "stderr",
     "output_type": "stream",
     "text": [
      "c:\\anaconda\\lib\\site-packages\\sklearn\\base.py:450: UserWarning: X does not have valid feature names, but LogisticRegression was fitted with feature names\n",
      "  warnings.warn(\n"
     ]
    }
   ],
   "source": [
    "input_data = (120,0,0,0,0,0,0,73,0.5,43,2.4,64,62,126,2,0,120,137,121,73,1)\n",
    "\n",
    "input_data_as_numpy_array = np.array(input_data)\n",
    "\n",
    "input_data_reshape = input_data_as_numpy_array.reshape(1, -1)\n",
    "\n",
    "prediction = model.predict(input_data_reshape)\n",
    "print(prediction)\n",
    "\n",
    "if (prediction[0]==1):\n",
    "    print ('kesehatan janin Normal')\n",
    "elif (prediction[0]==2):\n",
    "    print ('kesehatan janin Suspect (Mencurigakan)')\n",
    "else:\n",
    "    print ('kesehatan janin Pathological (Patologis)')"
   ]
  },
  {
   "attachments": {},
   "cell_type": "markdown",
   "metadata": {},
   "source": [
    "# Deployment (Implementasi)\n",
    "Tahap terakhir melibatkan penerapan hasil analisis dalam lingkungan operasional, yang dapat melibatkan integrasi dengan sistem yang ada atau penggunaan hasil analisis untuk pengambilan keputusan.\n",
    "\n",
    "Model yang telah dibuat di deploy kedalam library pickle yang kemudian akan diterapkan aplikasi berbasis web streamlit."
   ]
  },
  {
   "attachments": {},
   "cell_type": "markdown",
   "metadata": {},
   "source": [
    "# simpan model"
   ]
  },
  {
   "cell_type": "code",
   "execution_count": 16,
   "metadata": {},
   "outputs": [],
   "source": [
    "import pickle "
   ]
  },
  {
   "cell_type": "code",
   "execution_count": 17,
   "metadata": {},
   "outputs": [],
   "source": [
    "filename = 'fetal_healthNew.sav'\n",
    "pickle.dump(model, open(filename, 'wb'))"
   ]
  },
  {
   "attachments": {},
   "cell_type": "markdown",
   "metadata": {},
   "source": []
  }
 ],
 "metadata": {
  "kernelspec": {
   "display_name": "base",
   "language": "python",
   "name": "python3"
  },
  "language_info": {
   "codemirror_mode": {
    "name": "ipython",
    "version": 3
   },
   "file_extension": ".py",
   "mimetype": "text/x-python",
   "name": "python",
   "nbconvert_exporter": "python",
   "pygments_lexer": "ipython3",
   "version": "3.10.9"
  },
  "orig_nbformat": 4
 },
 "nbformat": 4,
 "nbformat_minor": 2
}
